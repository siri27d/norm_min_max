{
  "nbformat": 4,
  "nbformat_minor": 0,
  "metadata": {
    "colab": {
      "provenance": []
    },
    "kernelspec": {
      "name": "python3",
      "display_name": "Python 3"
    },
    "language_info": {
      "name": "python"
    }
  },
  "cells": [
    {
      "cell_type": "code",
      "execution_count": 2,
      "metadata": {
        "id": "7FinYeeNZgL3"
      },
      "outputs": [],
      "source": [
        "import pandas as pd\n",
        "from sklearn.preprocessing import MinMaxScaler\n",
        "\n",
        "# Load the dataset\n",
        "df = pd.read_csv('/content/WineQT.csv')  # Adjust the file name/path as needed\n",
        "\n",
        "df.head()\n",
        "\n",
        "# Convert 'quality' attribute\n",
        "df['quality'] = df['quality'].apply(lambda x: 0 if x <= 6 else 1)\n",
        "\n",
        "# Separate features and target\n",
        "X = df.drop('quality', axis=1)\n",
        "y = df['quality']\n",
        "\n",
        "# Normalize features using Min-Max Scaling\n",
        "scaler = MinMaxScaler()\n",
        "X_normalized = pd.DataFrame(scaler.fit_transform(X), columns=X.columns)\n",
        "\n",
        "# Combine the normalized features with the target\n",
        "df_normalized = pd.concat([X_normalized, y.reset_index(drop=True)], axis=1)\n",
        "\n",
        "# Save the processed data to a new CSV file\n",
        "df_normalized.to_csv('winequality_normalized.csv', index=False)\n"
      ]
    }
  ]
}